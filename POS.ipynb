{
 "cells": [
  {
   "cell_type": "code",
   "execution_count": 3,
   "id": "17a5faa2",
   "metadata": {},
   "outputs": [
    {
     "name": "stdout",
     "output_type": "stream",
     "text": [
      "1.View Student Details\n",
      "2.Spend Tokens\n",
      "0.Exit\n",
      "Enter choice : 0\n",
      "Program ended\n"
     ]
    }
   ],
   "source": [
    "import cl_pr\n",
    "from IPython.display import clear_output\n",
    "from colorama import Fore, Back, Style,init\n",
    "import sys\n",
    "def ShowMenu():\n",
    "    print(\"1.View Student Details\")\n",
    "    print(\"2.Spend Tokens\")\n",
    "    print(\"0.Exit\")\n",
    "    c=int(input(\"Enter choice : \"))\n",
    "    return c\n",
    "def ViewStudentDetails():\n",
    "    student_id=int(input(\"Enter student id : \"))\n",
    "    try:\n",
    "        x=cl_pr.GetStudentDetails(student_id)\n",
    "        print(x)\n",
    "        if x[\"tokens\"] <=0:\n",
    "           print(Fore.RED + \"Token Balance : \",Fore.RED + str(x[\"tokens\"]) )\n",
    "          \n",
    "        else:\n",
    "           print(Fore.GREEN + \"Token Balance : \",Fore.GREEN + str(x[\"tokens\"]) )\n",
    "        \n",
    "    except:\n",
    "        print(\"Connection error\")\n",
    "    try:\n",
    "        cl_pr.ShowTokenTransactions(student_id)\n",
    "    except:\n",
    "        print(\"Connection error\")\n",
    "def SpendTokens():\n",
    "    student_id=int(input(\"Enter student id : \"))\n",
    "    tokens=int(input(\"Enter tokens to spend : \"))\n",
    "    tokens=abs(tokens)\n",
    "    try:\n",
    "        x=cl_pr.AddTokens(student_id,-tokens,\"Spend\")\n",
    "        print(x)\n",
    "    except:\n",
    "        print(\"Connection error\")\n",
    "ch =1\n",
    "#init(autoreset=True) #colorama\n",
    "\n",
    "while ch != 0:\n",
    "    clear_output()\n",
    "    ch=ShowMenu()\n",
    "    sys.stdout.flush()\n",
    "    if ch == 1:\n",
    "        ViewStudentDetails()\n",
    "        input(\"Press Enter to continue\")\n",
    "        \n",
    "    elif ch == 2:\n",
    "        SpendTokens()\n",
    "        input(\"Press Enter to continue\")\n",
    "    elif ch == 0:\n",
    "        pass\n",
    "    else:\n",
    "        print(\"Invalid choice\")\n",
    "print(\"Program ended\")        "
   ]
  },
  {
   "cell_type": "code",
   "execution_count": 2,
   "id": "47c3c3c1",
   "metadata": {},
   "outputs": [
    {
     "name": "stdout",
     "output_type": "stream",
     "text": [
      "2\n"
     ]
    }
   ],
   "source": []
  },
  {
   "cell_type": "code",
   "execution_count": null,
   "id": "d0e3f6f0",
   "metadata": {},
   "outputs": [],
   "source": []
  }
 ],
 "metadata": {
  "kernelspec": {
   "display_name": "Python 3",
   "language": "python",
   "name": "python3"
  },
  "language_info": {
   "codemirror_mode": {
    "name": "ipython",
    "version": 3
   },
   "file_extension": ".py",
   "mimetype": "text/x-python",
   "name": "python",
   "nbconvert_exporter": "python",
   "pygments_lexer": "ipython3",
   "version": "3.8.8"
  }
 },
 "nbformat": 4,
 "nbformat_minor": 5
}
